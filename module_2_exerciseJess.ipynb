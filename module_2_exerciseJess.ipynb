{
  "nbformat": 4,
  "nbformat_minor": 0,
  "metadata": {
    "colab": {
      "provenance": [],
      "toc_visible": true,
      "include_colab_link": true
    },
    "kernelspec": {
      "name": "python3",
      "display_name": "Python 3"
    }
  },
  "cells": [
    {
      "cell_type": "markdown",
      "metadata": {
        "id": "view-in-github",
        "colab_type": "text"
      },
      "source": [
        "<a href=\"https://colab.research.google.com/github/blacknunes/ebac/blob/main/module_2_exerciseJess.ipynb\" target=\"_parent\"><img src=\"https://colab.research.google.com/assets/colab-badge.svg\" alt=\"Open In Colab\"/></a>"
      ]
    },
    {
      "cell_type": "markdown",
      "metadata": {
        "id": "KJqp9AANOCtf"
      },
      "source": [
        "<img src=\"https://raw.githubusercontent.com/andre-marcos-perez/ebac-course-utils/main/media/logo/newebac_logo_black_half.png\" alt=\"ebac-logo\">\n",
        "\n",
        "---\n",
        "\n",
        "# **Módulo** | Python: Estruturas de Dados\n",
        "Caderno de **Exercícios**<br> \n",
        "Professor [André Perez](https://www.linkedin.com/in/andremarcosperez/)\n",
        "\n",
        "---"
      ]
    },
    {
      "cell_type": "markdown",
      "metadata": {
        "id": "d9jDtUbDOE1-"
      },
      "source": [
        "# **Tópicos**\n",
        "\n",
        "<ol type=\"1\">\n",
        "  <li>Listas;</li>\n",
        "  <li>Conjuntos;</li>\n",
        "  <li>Dicionários.</li>\n",
        "</ol>"
      ]
    },
    {
      "cell_type": "markdown",
      "metadata": {
        "id": "SmoHgt-lwkpD"
      },
      "source": [
        "---"
      ]
    },
    {
      "cell_type": "markdown",
      "metadata": {
        "id": "GABI6OW8OfQ2"
      },
      "source": [
        "# **Exercícios**"
      ]
    },
    {
      "cell_type": "markdown",
      "metadata": {
        "id": "muD1vxozykSC"
      },
      "source": [
        "## 1\\. Listas"
      ]
    },
    {
      "cell_type": "markdown",
      "metadata": {
        "id": "ahrFfCuBxJKs"
      },
      "source": [
        "Criei uma lista chamada `filmes` com o nome dos 10 primeiros filmes mais bem avaliados no site no [IMDB](https://www.imdb.com/chart/top/). Imprima o resultado."
      ]
    },
    {
      "cell_type": "code",
      "metadata": {
        "id": "OgL6Hv3bzOHI"
      },
      "source": [
        "filmes = [...]"
      ],
      "execution_count": null,
      "outputs": []
    },
    {
      "cell_type": "code",
      "source": [
        "\n",
        "top10_filmes_lista = [\n",
        "    'Um sonho de liberdade' ,\n",
        "    'O poderoso chefão' ,\n",
        "    'Batman: O cavaleiro das trevas' ,\n",
        "    'O poderoo chefão 2' ,\n",
        "    '12 homens e uma sentença' ,\n",
        "    'A lista de Schindler' ,\n",
        "    'O senhor dos anéis: o retorno do rei' ,\n",
        "    'Pulp fiction: tempo de violência' ,\n",
        "    'O senhor dos anéis: a socidade do anel' ,\n",
        "    'Três homens em conflito'\n",
        "]\n",
        "\n",
        "print(top10_filmes_lista)"
      ],
      "metadata": {
        "colab": {
          "base_uri": "https://localhost:8080/"
        },
        "id": "7ikWNTQIR2eA",
        "outputId": "92a9a658-2073-49fd-f03e-02666363c8d8"
      },
      "execution_count": 4,
      "outputs": [
        {
          "output_type": "stream",
          "name": "stdout",
          "text": [
            "['Um sonho de liberdade', 'O poderoso chefão', 'Batman: O cavaleiro das trevas', 'O poderoo chefão 2', '12 homens e uma sentença', 'A lista de Schindler', 'O senhor dos anéis: o retorno do rei', 'Pulp fiction: tempo de violência', 'O senhor dos anéis: a socidade do anel', 'Três homens em conflito']\n"
          ]
        }
      ]
    },
    {
      "cell_type": "markdown",
      "metadata": {
        "id": "KI9zQRT2xa7m"
      },
      "source": [
        "Simule a movimentação do *ranking*. Utilize os métodos `insert` e `pop` para trocar a posição do primeiro e do segundo filme da lista. Imprima o resultado.\n",
        "\n"
      ]
    },
    {
      "cell_type": "code",
      "metadata": {
        "id": "zX3mA3_GzrXH",
        "colab": {
          "base_uri": "https://localhost:8080/"
        },
        "outputId": "6da3f337-2335-4458-fe20-1f27c3fa1b5f"
      },
      "source": [
        "top10_filmes_lista = [\n",
        "    'Um sonho de liberdade' ,\n",
        "    'O poderoso chefão' ,\n",
        "    'Batman: O cavaleiro das trevas' ,\n",
        "    'O poderoso chefão 2' ,\n",
        "    '12 homens e uma sentença' ,\n",
        "    'A lista de Schindler' ,\n",
        "    'O senhor dos anéis: o retorno do rei' ,\n",
        "    'Pulp fiction: tempo de violência' ,\n",
        "    'O senhor dos anéis: a socidade do anel' ,\n",
        "    'Três homens em conflito'\n",
        "]\n",
        "\n",
        "\n",
        "top10_filmes_lista.insert(0,'Matrix')\n",
        "print(top10_filmes_lista)\n",
        "\n",
        "top10_filmes_lista.pop(1)\n",
        "print(top10_filmes_lista)"
      ],
      "execution_count": 7,
      "outputs": [
        {
          "output_type": "stream",
          "name": "stdout",
          "text": [
            "['Matrix', 'Um sonho de liberdade', 'O poderoso chefão', 'Batman: O cavaleiro das trevas', 'O poderoo chefão 2', '12 homens e uma sentença', 'A lista de Schindler', 'O senhor dos anéis: o retorno do rei', 'Pulp fiction: tempo de violência', 'O senhor dos anéis: a socidade do anel', 'Três homens em conflito']\n",
            "['Matrix', 'O poderoso chefão', 'Batman: O cavaleiro das trevas', 'O poderoo chefão 2', '12 homens e uma sentença', 'A lista de Schindler', 'O senhor dos anéis: o retorno do rei', 'Pulp fiction: tempo de violência', 'O senhor dos anéis: a socidade do anel', 'Três homens em conflito']\n"
          ]
        }
      ]
    },
    {
      "cell_type": "markdown",
      "metadata": {
        "id": "zMN1Q3jdwoJm"
      },
      "source": [
        "---"
      ]
    },
    {
      "cell_type": "markdown",
      "metadata": {
        "id": "lxa5L6uF0ZJE"
      },
      "source": [
        "## 2\\. Conjuntos"
      ]
    },
    {
      "cell_type": "markdown",
      "metadata": {
        "id": "9JahS2Kj0d5u"
      },
      "source": [
        "Aconteceu um erro no seu *ranking*. Simule a duplicação dos três últimos filmes da lista. Imprima o resultado."
      ]
    },
    {
      "cell_type": "code",
      "metadata": {
        "id": "BnjnLBNC6PGe",
        "colab": {
          "base_uri": "https://localhost:8080/"
        },
        "outputId": "8be5ac00-81dc-483e-f86e-7e19e30133da"
      },
      "source": [
        "top10_filmes_lista = [\n",
        "    'Um sonho de liberdade' ,\n",
        "    'O poderoso chefão' ,\n",
        "    'Batman: O cavaleiro das trevas' ,\n",
        "    'O poderoo chefão 2' ,\n",
        "    '12 homens e uma sentença' ,\n",
        "    'A lista de Schindler' ,\n",
        "    'O senhor dos anéis: o retorno do rei' ,\n",
        "    'Pulp fiction: tempo de violência' ,\n",
        "    'O senhor dos anéis: a socidade do anel' ,\n",
        "    'Três homens em conflito'\n",
        "]\n",
        "\n",
        "top10_filmes_lista.append('Pulp fiction: tempo de violência')\n",
        "top10_filmes_lista.append('O senhor dos anéis: a socidade do anel')\n",
        "top10_filmes_lista.append('Três homens em conflito')\n",
        "print(top10_filmes_lista)"
      ],
      "execution_count": 10,
      "outputs": [
        {
          "output_type": "stream",
          "name": "stdout",
          "text": [
            "['Um sonho de liberdade', 'O poderoso chefão', 'Batman: O cavaleiro das trevas', 'O poderoo chefão 2', '12 homens e uma sentença', 'A lista de Schindler', 'O senhor dos anéis: o retorno do rei', 'Pulp fiction: tempo de violência', 'O senhor dos anéis: a socidade do anel', 'Três homens em conflito', 'Pulp fiction: tempo de violência', 'O senhor dos anéis: a socidade do anel', 'Três homens em conflito']\n"
          ]
        }
      ]
    },
    {
      "cell_type": "markdown",
      "metadata": {
        "id": "suxTfCJB6ZiX"
      },
      "source": [
        "Utiliza a conversão `set` e `list` para remover os valores duplicados. Imprima o resultado. "
      ]
    },
    {
      "cell_type": "code",
      "metadata": {
        "id": "ZvUGN-0n6joM",
        "colab": {
          "base_uri": "https://localhost:8080/"
        },
        "outputId": "35652cdd-5e21-42fc-db83-8cc0e45ff5a3"
      },
      "source": [
        "print(set(top10_filmes_lista))\n",
        "print(list(set(top10_filmes_lista)))\n"
      ],
      "execution_count": 13,
      "outputs": [
        {
          "output_type": "stream",
          "name": "stdout",
          "text": [
            "{'O poderoso chefão', 'O senhor dos anéis: o retorno do rei', 'Batman: O cavaleiro das trevas', 'Três homens em conflito', 'O senhor dos anéis: a socidade do anel', 'Pulp fiction: tempo de violência', 'O poderoo chefão 2', '12 homens e uma sentença', 'A lista de Schindler', 'Um sonho de liberdade'}\n",
            "['O poderoso chefão', 'O senhor dos anéis: o retorno do rei', 'Batman: O cavaleiro das trevas', 'Três homens em conflito', 'O senhor dos anéis: a socidade do anel', 'Pulp fiction: tempo de violência', 'O poderoo chefão 2', '12 homens e uma sentença', 'A lista de Schindler', 'Um sonho de liberdade']\n"
          ]
        }
      ]
    },
    {
      "cell_type": "markdown",
      "metadata": {
        "id": "ShkK35eQ6pAM"
      },
      "source": [
        "---"
      ]
    },
    {
      "cell_type": "markdown",
      "metadata": {
        "id": "EL_FzmxL6rTv"
      },
      "source": [
        "## 3\\. Dicionários"
      ]
    },
    {
      "cell_type": "markdown",
      "metadata": {
        "id": "i8l0gFqRCpfT"
      },
      "source": [
        "Repita os exercícios da parte 1 (listas). Os elementos da lista `filmes` devem ser dicionários no seguinte formato: `{'nome': <nome-do-filme>, 'ano': <ano do filme>, 'sinopse': <sinopse do filme>}`. "
      ]
    },
    {
      "cell_type": "code",
      "metadata": {
        "id": "tu6MSFwGDnHv"
      },
      "source": [
        "top10_filmes = {\n",
        "    \n",
        "                'top1': {\n",
        "                'nome': 'Um sonho de liberdade',\n",
        "                'ano': 1994,\n",
        "                'sinopse': 'Dois homens presos se reúnem ao longo de vários anos, encontrando consolo e eventual redenção através de atos de decência comum.'\n",
        "                }\n",
        "\n",
        "                  'top2'; {\n",
        "                  'nome': 'O poderoso chefão',\n",
        "                  'ano': 1972,\n",
        "                  'sinopse': 'O patriarca idoso de uma dinastia do crime organizado transfere o controle de seu império clandestino para seu filho relutante.'\n",
        "                  };\n",
        "                    \n",
        "                    'top3'; {\n",
        "                    'nome': 'Batman: O cavaleiro das trevas',\n",
        "                    'ano': 2008,\n",
        "                    'sinopse': 'Quando a ameaça conhecida como O Coringa surge de seu passado, causa estragos e caos nas pessoas de Gotham. O Cavaleiro das Trevas deve aceitar um dos maiores testes para combater a injustiça.'\n",
        "                    };\n",
        "                \n",
        "                      'top4'; {\n",
        "                      'nome': 'O poderoso chefão II',\n",
        "                      'ano': 1974,\n",
        "                      'sinopse': 'Em 1950, Michael Corleone, agora à frente da família, tenta expandir o negócio do crime a Las Vegas, Los Angeles e Cuba. Paralelamente, é revelada a história de Vito Corleone, e de como saiu da Sicília e chegou a Nova Iorque.'\n",
        "                      };\n",
        "                \n",
        "                        'top5'; {\n",
        "                        'nome': '12 Homens e uma sentença',\n",
        "                        'ano': 1957,\n",
        "                        'sinopse': 'Um jurado que se aposenta tenta evitar um erro judicial forçando seus colegas a reconsiderarem as evidências.'\n",
        "                        };\n",
        "\n",
        "                          'top6'; {\n",
        "                          'nome': 'A Lista de Schinler',\n",
        "                          'ano': 1993,\n",
        "                          'sinopse': 'Depois de testemunhar a perseguição dos judaicos na Polônia ocupada pelos alemães durante a Segunda Guerra Mundial, o industrial Oskar Schindler se começa a preocupar com sua força de trabalho judaica.'\n",
        "                          };\n",
        "\n",
        "                            'top7'; {\n",
        "                            'nome': 'O Senhor dos Anéis: O Retorno do Rei',\n",
        "                            'ano': 2003,\n",
        "                            'sinopse': 'Gandalf e Aragorn lideram o Mundo dos Homens contra o exército de Sauron para desviar o olhar de Frodo e Sam quando eles se aproximam á Montanha da Perdição com o Um Anel.'\n",
        "                            };\n",
        "                \n",
        "                              'top8'; {\n",
        "                              'nome': 'Pulp Fiction: Tempo de Violência',\n",
        "                              'ano': 1994,\n",
        "                              'sinopse': 'As vidas de dois assassinos da máfia, um boxeador, um gângster e sua esposa, e um par de bandidos se entrelaçam em quatro histórias de violência e redenção.'\n",
        "                              };\n",
        "                \n",
        "                                'top9'; {\n",
        "                                'nome': 'O Senhor dos Anéis: A sociedade do anel',\n",
        "                                'ano': 2001,\n",
        "                                'sinopse': 'Um manso hobbit do Condado e oito companheiros partem em uma jornada para destruir o poderoso Um Anel e salvar a Terra-média das Trevas.'\n",
        "                                };\n",
        "                \n",
        "                                  'top10'; {\n",
        "                                  'nome': 'Três Homens em Conflito',\n",
        "                                  'ano': 1966,\n",
        "                                  'sinopse': 'Um impostor se junta com dois homens para encontrar fortuna num remoto cemitério.'\n",
        "                                  };\n",
        "              \n",
        "                }\n"
      ],
      "execution_count": null,
      "outputs": []
    }
  ]
}